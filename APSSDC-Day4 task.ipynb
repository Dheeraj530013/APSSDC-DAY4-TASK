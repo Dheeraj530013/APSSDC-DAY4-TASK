{
 "cells": [
  {
   "cell_type": "markdown",
   "metadata": {},
   "source": [
    "##Program to find the middle characters of any given string"
   ]
  },
  {
   "cell_type": "code",
   "execution_count": 1,
   "metadata": {},
   "outputs": [
    {
     "name": "stdout",
     "output_type": "stream",
     "text": [
      "\t\t\t\t\tFinding the Middle character(s)\n",
      "\n",
      "Instructions:\n",
      "\n",
      "Do not leave any spaces between any characters in the string.\n",
      "Do not use any special characters like '-','.','_','*',etc\n",
      "\n",
      "Enter any string to fing it's middle character(s):\n",
      " Visakhapatnam\n",
      "As Length of string is 13, which is odd, the middle character is a\n"
     ]
    }
   ],
   "source": [
    "string = input(\"\\t\\t\\t\\t\\tFinding the Middle character(s)\\n\\nInstructions:\\n\\nDo not leave any spaces between any characters in the string.\\nDo not use any special characters like '-','.','_','*',etc\\n\\nEnter any string to fing it's middle character(s):\\n \")\n",
    "if len(string)%2==0:\n",
    "    print(\"As Length of string is {e}, which is even, we have 2 middle characters. They are:\\n\\t\\t\".format(e=len(string)))\n",
    "    print(string[len(string)//2 - 1], string[len(string)//2])\n",
    "else:\n",
    "    print(\"As Length of string is {o}, which is odd, the middle character is {mc}\".format(o=len(string), mc=string[(len(string)-1)//2]))\n",
    " "
   ]
  },
  {
   "cell_type": "code",
   "execution_count": 2,
   "metadata": {},
   "outputs": [
    {
     "name": "stdout",
     "output_type": "stream",
     "text": [
      "\t\t\t\t\tFinding the Middle character(s)\n",
      "\n",
      "Instructions:\n",
      "\n",
      "Do not leave any spaces between any characters in the string.\n",
      "Do not use any special characters like '-','.','_','*',etc\n",
      "\n",
      "Enter any string to fing it's middle character(s):\n",
      " Himalaya\n",
      "As Length of string is 8, which is even, we have 2 middle characters. They are:\n",
      "\t\t\n",
      "a l\n"
     ]
    }
   ],
   "source": [
    "string = input(\"\\t\\t\\t\\t\\tFinding the Middle character(s)\\n\\nInstructions:\\n\\nDo not leave any spaces between any characters in the string.\\nDo not use any special characters like '-','.','_','*',etc\\n\\nEnter any string to fing it's middle character(s):\\n \")\n",
    "if len(string)%2==0:\n",
    "    print(\"As Length of string is {e}, which is even, we have 2 middle characters. They are:\\n\\t\\t\".format(e=len(string)))\n",
    "    print(string[len(string)//2 - 1], string[len(string)//2])\n",
    "else:\n",
    "    print(\"As Length of string is {o}, which is odd, the middle character is {mc}\".format(o=len(string), mc=string[(len(string)-1)//2]))"
   ]
  },
  {
   "cell_type": "code",
   "execution_count": null,
   "metadata": {},
   "outputs": [],
   "source": []
  }
 ],
 "metadata": {
  "kernelspec": {
   "display_name": "Python 3",
   "language": "python",
   "name": "python3"
  },
  "language_info": {
   "codemirror_mode": {
    "name": "ipython",
    "version": 3
   },
   "file_extension": ".py",
   "mimetype": "text/x-python",
   "name": "python",
   "nbconvert_exporter": "python",
   "pygments_lexer": "ipython3",
   "version": "3.7.4"
  }
 },
 "nbformat": 4,
 "nbformat_minor": 2
}
